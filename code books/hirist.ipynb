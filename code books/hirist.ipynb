{
 "cells": [
  {
   "cell_type": "code",
   "execution_count": 1,
   "metadata": {},
   "outputs": [],
   "source": [
    "from selenium import webdriver\n",
    "from selenium.webdriver.firefox.options import Options as FirefoxOptions\n",
    "from webdriver_manager.chrome import ChromeDriverManager\n",
    "from bs4 import BeautifulSoup\n",
    "from selenium.webdriver.common.by import By\n",
    "import pandas as pd\n",
    "import re\n",
    "import requests"
   ]
  },
  {
   "cell_type": "code",
   "execution_count": 16,
   "metadata": {},
   "outputs": [
    {
     "name": "stderr",
     "output_type": "stream",
     "text": [
      "\n",
      "\n",
      "====== WebDriver manager ======\n",
      "Current google-chrome version is 101.0.4951\n",
      "Get LATEST chromedriver version for 101.0.4951 google-chrome\n",
      "Driver [C:\\Users\\Pfactorial00110\\.wdm\\drivers\\chromedriver\\win32\\101.0.4951.41\\chromedriver.exe] found in cache\n",
      "C:\\Users\\Pfactorial00110\\AppData\\Local\\Temp\\ipykernel_4192\\459452054.py:18: DeprecationWarning: executable_path has been deprecated, please pass in a Service object\n",
      "  driver=webdriver.Chrome(options=options, executable_path=ChromeDriverManager().install())\n"
     ]
    }
   ],
   "source": [
    "def getdriver(): #it is the selenium driver to connect the script with the browser\n",
    "    options = webdriver.ChromeOptions()\n",
    "    options.add_argument('log-level=3')\n",
    "    options.add_argument(\"--window-size=1880x1020\")\n",
    "    options.add_argument('--disable-extensions')\n",
    "    options.add_argument('--disable-gpu')\n",
    "    #options.add_argument(\"--headless\")\n",
    "    options.add_argument('--no-sandbox')\n",
    "    options.add_argument('--disable-dev-shm-usage')\n",
    "    prefs = {\"profile.default_content_setting_values.notifications\" : 2}\n",
    "    options.add_experimental_option(\"prefs\",prefs)\n",
    "    options.add_experimental_option(\"excludeSwitches\", [\"enable-automation\"])\n",
    "    options.add_experimental_option('useAutomationExtension', False)\n",
    "    options.add_argument(\"test-type\")\n",
    "    options.add_argument(\"--disable-web-security\")\n",
    "    options.add_argument(\"--allow-running-insecure-content\")\n",
    "    #options.add_argument('--proxy-server=%s' % proxy)\n",
    "    driver=webdriver.Chrome(options=options, executable_path=ChromeDriverManager().install())\n",
    "    #     driver.execute_script(\"Object.defineProperty(navigator, 'webdriver', {get: () => undefined})\")\n",
    "    driver.execute_cdp_cmd('Network.setUserAgentOverride', {\"userAgent\": 'Mozilla/5.0 (Windows NT 10.0; Win64; x64) AppleWebKit/537.36 (KHTML, like Gecko) Chrome/83.0.4103.53 Safari/537.36'})\n",
    "    driver.execute_cdp_cmd(\"Page.addScriptToEvaluateOnNewDocument\", {\"source\": \"\"\"\n",
    "    Object.defineProperty(navigator, 'webdriver', {\n",
    "        get: () => undefined\n",
    "    })\n",
    "    \"\"\"})\n",
    "    return driver\n",
    "driver = getdriver()"
   ]
  },
  {
   "cell_type": "code",
   "execution_count": 87,
   "metadata": {},
   "outputs": [],
   "source": [
    "job_link = []\n",
    "Category = []\n",
    "#the argument url takes website url as parameter eg:'https://www.careerjet.co.in/machine-learning-jobs.html?p='\n",
    "#the argument category takes category of jobs as parameter\n",
    "def hirist_extractor(url, category):#this functions extracts the job links from the particular websie\n",
    "  try:\n",
    "    url_next=url\n",
    "    driver.get(url_next) # to access the url\n",
    "    content = driver.page_source\n",
    "    page = BeautifulSoup(content, \"html.parser\")\n",
    "    pages = page.findAll(class_=\"job-title\")\n",
    "    for ele in pages:\n",
    "      a = ele.find('a')\n",
    "      if a==None:\n",
    "        pass\n",
    "      elif a['href'].startswith('/j/'):\n",
    "        job_link.append(\"https://www.hirist.com\"+a['href']) # adds the iterted data to the empty list\n",
    "        Category.append(category)\n",
    "  except:\n",
    "    pass\n",
    "  return job_link,Category"
   ]
  },
  {
   "cell_type": "code",
   "execution_count": 80,
   "metadata": {},
   "outputs": [],
   "source": [
    "job_link,Category = hirist_extractor(\"https://www.hirist.com/search/Data%20Science-0-0-900-10-5-871-0-2-2.html\", \"Data Science\")"
   ]
  },
  {
   "cell_type": "code",
   "execution_count": 88,
   "metadata": {},
   "outputs": [],
   "source": [
    "job_link,Category = hirist_extractor(\"https://www.hirist.com/search/Machine%20Learning-0-0-300-4-5-139-0-2-2.html\", \"Machine Learning\")"
   ]
  },
  {
   "cell_type": "code",
   "execution_count": 90,
   "metadata": {},
   "outputs": [],
   "source": [
    "Job_posting_df=pd.DataFrame({\"Category\":Category,\"Job_Posting_link\":job_link})"
   ]
  },
  {
   "cell_type": "code",
   "execution_count": 83,
   "metadata": {},
   "outputs": [],
   "source": [
    "Job_posting_df.to_csv('Data_science_hirist_links.csv', index=False)"
   ]
  },
  {
   "cell_type": "code",
   "execution_count": 91,
   "metadata": {},
   "outputs": [],
   "source": [
    "Job_posting_df.to_csv('Machine_learning_hirist_links.csv', index=False)"
   ]
  },
  {
   "cell_type": "code",
   "execution_count": 3,
   "metadata": {},
   "outputs": [],
   "source": [
    "ds = pd.read_csv(\"Data_science_hirist_links.csv\")\n",
    "ml = pd.read_csv('Machine_learning_hirist_links.csv')"
   ]
  },
  {
   "cell_type": "code",
   "execution_count": 32,
   "metadata": {},
   "outputs": [],
   "source": [
    "def hirist_details_extractor(df): # this function extracts the data from the particular job link\n",
    "    hirist_df = pd.DataFrame()\n",
    "    for i in range(0,1): #it iterates through the links upto the extracted links length\n",
    "        try:\n",
    "          Job_Posting_link=df['Job_Posting_link'][0] #iterates through the links in the dataframe\n",
    "          Category=df['Category'][0]\n",
    "          driver.get(Job_Posting_link)\n",
    "          try:\n",
    "            Location=driver.find_element(by=By.XPATH, value='//*[@id=\"company-location-tooltip\"]/a').text #extracts the text data from the respective class                                   #/html/body/div[1]/div[2]/main/div[1]/section[1]/div[3]/div[1]/div[1]/div[1]/p[2]\n",
    "          except:\n",
    "            Location=None\n",
    "          try:                                                \n",
    "            company = driver.find_element(by=By.XPATH, value='//*[@id=\"root\"]/div/div/div/div[2]/div[2]/div/div[2]/a[1]').text #soups1.find(class_ = 'info-org').text\n",
    "          except:\n",
    "            company=None\n",
    "          try:\n",
    "            skills = driver.find_element(by=By.XPATH, value='//*[@id=\"root\"]/div/div/div/div[2]/div[2]/div/div[3]').text #('//div[@class=\"col\"][3]').text #/html/body/div[1]/div[2]/main/div[1]/section[1]/div[3]/div[1]/div[1]/div[3]/p[2]\n",
    "          except:\n",
    "            skills = None\n",
    "          try:\n",
    "            title = driver.find_element(by=By.CLASS_NAME, value=\"job-detail-title\").text #soups1.find(class_ = 'info-position').text\n",
    "          except:\n",
    "            title=None\n",
    "          try:\n",
    "            salary = driver.find_element(by=By.XPATH, value='//*[@id=\"jobDescription\"]/div[1]/section[1]/div[2]/div[1]/div[1]/div[1]/p[2]').text\n",
    "          except:                                             \n",
    "            salary=None\n",
    "          try:                                                    \n",
    "            description = driver.find_element(by=By.XPATH, value='//*[@id=\"root\"]/div/div/div/div[3]/div[1]/div[1]/div[1]/p').text #soups1.find(class_='job-description').text \n",
    "          except:                                                 \n",
    "            description=None\n",
    "          try:                                                    \n",
    "            experience = driver.find_element(by=By.XPATH, value='//*[@id=\"root\"]/div/div/div/div[2]/div[2]/div/div[2]/a[2]').text\n",
    "          except:\n",
    "            experience = None\n",
    "          try:\n",
    "            education = driver.find_element(by=By.XPATH, value='//*[@id=\"jobDescription\"]/div[1]/section[1]/div[3]/div[1]/div[1]/div[3]/p[2]').text #('//div[@class=\"col\"][3]').text #/html/body/div[1]/div[2]/main/div[1]/section[1]/div[3]/div[1]/div[1]/div[3]/p[2]\n",
    "          except:\n",
    "            education = None\n",
    "          hirist=pd.DataFrame({'Category':Category,'Job_Posting_link':Job_Posting_link,'Job_title':title,'Company_name':company,'Skills':skills,'Salary':salary,'Location':Location,'Education':education,'Experience':experience,'Description':[description]},index=[0])\n",
    "          hirist_df=hirist_df.append(hirist)\n",
    "        except Exception as e: # raises an exception if something goes wrong in the time of extraction\n",
    "          print(e)\n",
    "    return hirist_df"
   ]
  },
  {
   "cell_type": "code",
   "execution_count": 27,
   "metadata": {},
   "outputs": [
    {
     "name": "stderr",
     "output_type": "stream",
     "text": [
      "C:\\Users\\Pfactorial00110\\AppData\\Local\\Temp\\ipykernel_4192\\4226106848.py:41: FutureWarning: The frame.append method is deprecated and will be removed from pandas in a future version. Use pandas.concat instead.\n",
      "  hirist_df=hirist_df.append(hirist)\n"
     ]
    }
   ],
   "source": [
    "data_science = hirist_details_extractor(ds) #calls the above funtion"
   ]
  },
  {
   "cell_type": "code",
   "execution_count": 33,
   "metadata": {},
   "outputs": [
    {
     "name": "stderr",
     "output_type": "stream",
     "text": [
      "C:\\Users\\Pfactorial00110\\AppData\\Local\\Temp\\ipykernel_4192\\301408012.py:41: FutureWarning: The frame.append method is deprecated and will be removed from pandas in a future version. Use pandas.concat instead.\n",
      "  hirist_df=hirist_df.append(hirist)\n"
     ]
    }
   ],
   "source": [
    "machine_learning = hirist_details_extractor(ml) #calls the above funtion"
   ]
  },
  {
   "cell_type": "code",
   "execution_count": 34,
   "metadata": {},
   "outputs": [
    {
     "data": {
      "text/html": [
       "<div>\n",
       "<style scoped>\n",
       "    .dataframe tbody tr th:only-of-type {\n",
       "        vertical-align: middle;\n",
       "    }\n",
       "\n",
       "    .dataframe tbody tr th {\n",
       "        vertical-align: top;\n",
       "    }\n",
       "\n",
       "    .dataframe thead th {\n",
       "        text-align: right;\n",
       "    }\n",
       "</style>\n",
       "<table border=\"1\" class=\"dataframe\">\n",
       "  <thead>\n",
       "    <tr style=\"text-align: right;\">\n",
       "      <th></th>\n",
       "      <th>Category</th>\n",
       "      <th>Job_Posting_link</th>\n",
       "      <th>Job_title</th>\n",
       "      <th>Company_name</th>\n",
       "      <th>Skills</th>\n",
       "      <th>Salary</th>\n",
       "      <th>Location</th>\n",
       "      <th>Education</th>\n",
       "      <th>Experience</th>\n",
       "      <th>Description</th>\n",
       "    </tr>\n",
       "  </thead>\n",
       "  <tbody>\n",
       "    <tr>\n",
       "      <th>0</th>\n",
       "      <td>Machine Learning</td>\n",
       "      <td>https://www.hirist.com/j/computer-vision-inter...</td>\n",
       "      <td>Computer Vision Intern - Deep/Machine Learning...</td>\n",
       "      <td>Mirrorsize US Inc.</td>\n",
       "      <td>Computer VisionInternshipData ScienceMachine L...</td>\n",
       "      <td>None</td>\n",
       "      <td>Noida</td>\n",
       "      <td>None</td>\n",
       "      <td>0 - 1 Years</td>\n",
       "      <td>RESPONSIBILITY :\\n\\n- Performing tests and imp...</td>\n",
       "    </tr>\n",
       "  </tbody>\n",
       "</table>\n",
       "</div>"
      ],
      "text/plain": [
       "           Category                                   Job_Posting_link  \\\n",
       "0  Machine Learning  https://www.hirist.com/j/computer-vision-inter...   \n",
       "\n",
       "                                           Job_title        Company_name  \\\n",
       "0  Computer Vision Intern - Deep/Machine Learning...  Mirrorsize US Inc.   \n",
       "\n",
       "                                              Skills Salary Location  \\\n",
       "0  Computer VisionInternshipData ScienceMachine L...   None    Noida   \n",
       "\n",
       "  Education   Experience                                        Description  \n",
       "0      None  0 - 1 Years  RESPONSIBILITY :\\n\\n- Performing tests and imp...  "
      ]
     },
     "execution_count": 34,
     "metadata": {},
     "output_type": "execute_result"
    }
   ],
   "source": [
    "machine_learning"
   ]
  },
  {
   "cell_type": "code",
   "execution_count": 10,
   "metadata": {},
   "outputs": [],
   "source": [
    "data_science.to_csv(\"hirist_data_science_full_details.csv\", index=False)"
   ]
  },
  {
   "cell_type": "code",
   "execution_count": 15,
   "metadata": {},
   "outputs": [],
   "source": [
    "machine_learning.to_csv(\"hirist_Machine_Learning_full_details.csv\", index=False)"
   ]
  }
 ],
 "metadata": {
  "interpreter": {
   "hash": "ba59a03cf33cb9333b80f44bf9c917041c1cb48ad27ac677fd82dee253b9f056"
  },
  "kernelspec": {
   "display_name": "Python 3.8.0 64-bit",
   "language": "python",
   "name": "python3"
  },
  "language_info": {
   "codemirror_mode": {
    "name": "ipython",
    "version": 3
   },
   "file_extension": ".py",
   "mimetype": "text/x-python",
   "name": "python",
   "nbconvert_exporter": "python",
   "pygments_lexer": "ipython3",
   "version": "3.8.0"
  },
  "orig_nbformat": 4
 },
 "nbformat": 4,
 "nbformat_minor": 2
}
