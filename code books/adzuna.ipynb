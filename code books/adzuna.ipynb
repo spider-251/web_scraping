{
 "cells": [
  {
   "cell_type": "code",
   "execution_count": 2,
   "metadata": {},
   "outputs": [],
   "source": [
    "from selenium import webdriver\n",
    "from selenium.webdriver.firefox.options import Options as FirefoxOptions\n",
    "from webdriver_manager.chrome import ChromeDriverManager\n",
    "from bs4 import BeautifulSoup\n",
    "from selenium.webdriver.common.by import By\n",
    "import pandas as pd\n",
    "import re\n",
    "import requests"
   ]
  },
  {
   "cell_type": "code",
   "execution_count": 3,
   "metadata": {},
   "outputs": [],
   "source": [
    "proxy = \"http://192.198.126.179:7222\""
   ]
  },
  {
   "cell_type": "code",
   "execution_count": 4,
   "metadata": {},
   "outputs": [],
   "source": [
    "job_link = []\n",
    "Category = []\n",
    "def adzuna_extractor():#this functions extracts the job links from the particular websie\n",
    "    try:\n",
    "        for i in range(0,20): # iterates upto 20 pages\n",
    "            url_next='https://www.adzuna.co.uk/jobs/search?loc=86383&q=data%20science&page='+str(i)\n",
    "            w1=requests.get(url_next,proxy) # to access the url\n",
    "            soups=BeautifulSoup(w1.content,'html.parser') \n",
    "            soup = soups.findAll(class_=\"text-base md:text-2xl text-adzuna-green-500 hover:underline\", href=True) #find all the data from html of respective class\n",
    "            for item in soup: # iterates through the items which has href links\n",
    "                if item['href'].startswith('https://www.adzuna.co.uk/jobs'):\n",
    "                    job_link.append(item['href']) # adds the iterted data to the empty list\n",
    "                    Category.append('Data Science')\n",
    "    except:\n",
    "        pass         \n",
    "    return job_link,Category"
   ]
  },
  {
   "cell_type": "code",
   "execution_count": 49,
   "metadata": {},
   "outputs": [],
   "source": [
    "job_link,Category = adzuna_extractor()"
   ]
  },
  {
   "cell_type": "code",
   "execution_count": 50,
   "metadata": {},
   "outputs": [],
   "source": [
    "Job_posting_df=pd.DataFrame({\"Category\":Category,\"Job_Posting_link\":job_link})\n",
    "Job_posting_df.to_csv('Data_science_adzuna_links.csv', index=False)"
   ]
  },
  {
   "cell_type": "code",
   "execution_count": null,
   "metadata": {},
   "outputs": [],
   "source": [
    "Job_posting_df_2=pd.DataFrame({\"Category\":Category2,\"Job_Posting_link\":job_link2})\n",
    "\n",
    "Job_posting_df_2.to_csv('Machine_Learning_adzuna_links.csv', index=False)"
   ]
  },
  {
   "cell_type": "code",
   "execution_count": 5,
   "metadata": {},
   "outputs": [],
   "source": [
    "df = pd.read_csv(\"Data_science_adzuna_links.csv\")"
   ]
  },
  {
   "cell_type": "code",
   "execution_count": 54,
   "metadata": {},
   "outputs": [],
   "source": [
    "#for data science\n",
    "links = []\n",
    "def redirect_link_extractor(): # this functin extratcs the links which have been redirected to other page\n",
    "    for i in range(0,len(df)):\n",
    "        job_links = df['Job_Posting_link'][i]\n",
    "        direct_link = requests.get(job_links,proxy)\n",
    "        so = BeautifulSoup(direct_link.content,'html.parser')\n",
    "        redirect_link = so.find('a',href=True).get('href')\n",
    "        links.append(redirect_link)\n",
    "    return links\n"
   ]
  },
  {
   "cell_type": "code",
   "execution_count": null,
   "metadata": {},
   "outputs": [],
   "source": [
    "links = redirect_link_extractor()"
   ]
  },
  {
   "cell_type": "code",
   "execution_count": 10,
   "metadata": {},
   "outputs": [],
   "source": [
    "DS_links = pd.read_csv('Data_science_adzuna_redirect_links.csv')\n",
    "ML_links = pd.read_csv('Machine_Learning_adzuna_redirect_links.csv')"
   ]
  },
  {
   "cell_type": "code",
   "execution_count": 24,
   "metadata": {},
   "outputs": [],
   "source": [
    "def adzuna_details_extractor(df): # this function extracts the data from the particular job link\n",
    "    adzuna_df = pd.DataFrame()\n",
    "    for i in range(0,len(df)): #it iterates through the links upto the extracted links length\n",
    "        try:\n",
    "            Job_Posting_link=DS_links['redirect_links'][20] #iterates through the links in the dataframe\n",
    "            Category=DS_links['Category'][21]\n",
    "            w1 = requests.get(Job_Posting_link)\n",
    "            soups1=BeautifulSoup(w1.content,'html.parser')\n",
    "            try:\n",
    "                Location=soups1.find(class_='location icon').text #extracts the text data from the respective class\n",
    "                pass\n",
    "            except:\n",
    "                Location=None\n",
    "            try:\n",
    "                company = soups1.find(class_ = 'company icon').text\n",
    "                pass\n",
    "            except:\n",
    "                company=None\n",
    "            try:\n",
    "                title = soups1.find(class_ = 'brand-font').text\n",
    "                pass\n",
    "            except:\n",
    "                title=None\n",
    "            try:\n",
    "                salary = soups1.find(class_ ='salary icon').text\n",
    "                pass\n",
    "            except:\n",
    "                salary=None\n",
    "            try:\n",
    "                description = soups1.find(class_='job-description').text\n",
    "            except:\n",
    "                description=None\n",
    "            description = []\n",
    "            for i in description:\n",
    "                description.append(i)\n",
    "            adzuna=pd.DataFrame({'Category':Category,'Job_Posting_link':Job_Posting_link,'Job_title':title,'Company_name':company,'salary':salary,'Location':Location,'Description':[description]},index=[0])\n",
    "            # print(simplyhired1)\n",
    "            adzuna_df=adzuna_df.append(adzuna)\n",
    "        except Exception as e: # raises an exception if something goes wrong in the time of extraction\n",
    "            print(e)   \n",
    "    return adzuna_df"
   ]
  },
  {
   "cell_type": "code",
   "execution_count": null,
   "metadata": {},
   "outputs": [],
   "source": [
    "ds = adzuna_details_extractor()"
   ]
  }
 ],
 "metadata": {
  "interpreter": {
   "hash": "c9958a2ee1ad7ce5bed12c6dea2733b89eb37390d2e7528d87543b903c6138a8"
  },
  "kernelspec": {
   "display_name": "Python 3.8.0 64-bit",
   "language": "python",
   "name": "python3"
  },
  "language_info": {
   "codemirror_mode": {
    "name": "ipython",
    "version": 3
   },
   "file_extension": ".py",
   "mimetype": "text/x-python",
   "name": "python",
   "nbconvert_exporter": "python",
   "pygments_lexer": "ipython3",
   "version": "3.8.0"
  },
  "orig_nbformat": 4
 },
 "nbformat": 4,
 "nbformat_minor": 2
}
